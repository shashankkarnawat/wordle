{
 "cells": [
  {
   "cell_type": "code",
   "execution_count": 1,
   "metadata": {},
   "outputs": [],
   "source": [
    "import pandas as pd\n",
    "import numpy as np\n",
    "import string\n",
    "import collections"
   ]
  },
  {
   "cell_type": "code",
   "execution_count": 27,
   "metadata": {},
   "outputs": [],
   "source": [
    "def create_word_list_new(filename='wordle_words.csv'):\n",
    "    word_df = pd.read_csv(filename, names=['words'])\n",
    "    for i in range(5):\n",
    "        word_df['pos_'+str(i)] = word_df['words'].apply(lambda x: x[i])\n",
    "    print('Number of words: ', word_df.shape[0])\n",
    "    return word_df"
   ]
  },
  {
   "cell_type": "code",
   "execution_count": 3,
   "metadata": {},
   "outputs": [],
   "source": [
    "def count_prob(letter,word_df,num):\n",
    "    counter = word_df['pos_'+str(num)].apply(lambda x: 1 if x.count(letter)==1 else 0)\n",
    "    return counter.sum()/(len(word_df))"
   ]
  },
  {
   "cell_type": "code",
   "execution_count": 4,
   "metadata": {},
   "outputs": [],
   "source": [
    "def generate_alphabet_prob(word_df):\n",
    "    alphabet_string = string.ascii_lowercase\n",
    "    alphabet_list = list(alphabet_string)\n",
    "    alphabet_df = pd.DataFrame(alphabet_list, columns=['letters'])\n",
    "\n",
    "    for i in range(5):\n",
    "        column_name = 'prob_'+str(i)\n",
    "        alphabet_df[column_name] = alphabet_df['letters'].apply(lambda x: count_prob(x,word_df,i))\n",
    "    \n",
    "    return alphabet_df"
   ]
  },
  {
   "cell_type": "code",
   "execution_count": 12,
   "metadata": {},
   "outputs": [],
   "source": [
    "def word_score(word, alphabet_df):\n",
    "    word_dict = {k: v for v, k in enumerate(list(word))}\n",
    "    word_df = pd.DataFrame({'letters':word_dict.keys(),'position':word_dict.values()})\n",
    "    word_df = word_df.merge(alphabet_df, how = 'left', on = ['letters'])\n",
    "    word_df['prob'] = word_df.apply(find_prob, axis =1)\n",
    "    return word_df['prob'].sum()\n",
    "\n",
    "def find_prob(row):\n",
    "    column_name = 'prob_' + str(row['position'])\n",
    "    return row[column_name]"
   ]
  },
  {
   "cell_type": "code",
   "execution_count": 19,
   "metadata": {},
   "outputs": [],
   "source": [
    "def suggest_word(input_word='',round_result='',word_df='',iteration=1,all_suggested=[]):\n",
    "    print('Attempt Number: ',iteration)\n",
    "    if (iteration ==1) & (len(word_df)==0):\n",
    "        word_letter_df = create_word_list_new()\n",
    "        alphabet_df = generate_alphabet_prob(word_letter_df)\n",
    "        word_letter_df['word_prob'] = word_letter_df['words'].apply(lambda x: word_score(x, alphabet_df))\n",
    "    \n",
    "    elif (iteration ==1) & (len(word_df)!=0):\n",
    "        word_letter_df = word_df.copy()\n",
    "\n",
    "    else:\n",
    "        word_list = list(input_word)\n",
    "        result_list = list(round_result)\n",
    "\n",
    "        black_letters_idx = [idx for idx,letter in enumerate(result_list) if letter =='b']\n",
    "        black_letters = [word_list[idx] for idx in black_letters_idx]\n",
    "\n",
    "        green_letters_idx = [idx for idx,letter in enumerate(result_list) if letter =='g']\n",
    "        green_letters = [word_list[idx] for idx in green_letters_idx]\n",
    "\n",
    "        yellow_letters_idx = [idx for idx,letter in enumerate(result_list) if letter =='y']\n",
    "        yellow_letters = [word_list[idx] for idx in yellow_letters_idx]\n",
    "        \n",
    "        overlapping_letters_g = intersection(black_letters,green_letters)\n",
    "        overlapping_letters_y = intersection(black_letters,yellow_letters)\n",
    "        overlapping_letters_g = list(set(overlapping_letters_g) - set(overlapping_letters_y))\n",
    "        \n",
    "        remove_positions_g = dict()\n",
    "        for i in overlapping_letters_g:\n",
    "            indices = [j for j, x in enumerate(green_letters) if x == i]\n",
    "            remove_positions_g[i] = list(set([0,1,2,3,4]) - set([elem for idx,elem in enumerate(green_letters_idx) if idx in indices]))\n",
    "    \n",
    "        \n",
    "        word_letter_df = word_df.copy()\n",
    "        \n",
    "        print('Number of words before iteration: ', word_letter_df.shape[0])\n",
    "        for i in black_letters_idx:\n",
    "            if word_list[i] in remove_positions_g.keys():\n",
    "                for j in remove_positions_g[word_list[i]]:\n",
    "                    word_letter_df = word_letter_df[word_letter_df['pos_'+str(j)]!=word_list[i]]\n",
    "            elif word_list[i] in overlapping_letters_y:\n",
    "                word_letter_df = word_letter_df[word_letter_df['pos_'+str(i)]!=word_list[i]]\n",
    "            else:\n",
    "                word_letter_df = word_letter_df[word_letter_df['words'].apply(lambda x: x.find(word_list[i])<0)]\n",
    "        \n",
    "        for i in green_letters_idx:\n",
    "            word_letter_df = word_letter_df[word_letter_df['pos_'+str(i)]==word_list[i]]\n",
    "        \n",
    "        for i in yellow_letters_idx:\n",
    "            word_letter_df = word_letter_df[(word_letter_df['pos_'+str(i)]!=word_list[i]) & (word_letter_df['words'].apply(lambda x: x.find(word_list[i])>=0))]\n",
    "        \n",
    "        print('Number of words after filters: ', word_letter_df.shape[0])\n",
    "        \n",
    "        alphabet_df = generate_alphabet_prob(word_letter_df)\n",
    "        word_letter_df['word_prob'] = word_letter_df['words'].apply(lambda x: word_score(x, alphabet_df))\n",
    "    \n",
    "    word_letter_df.sort_values(by=['word_prob'],ascending=False, inplace = True)\n",
    "    word_letter_df.reset_index(drop=True, inplace=True)\n",
    "    \n",
    "    suggested_word = word_letter_df['words'].iloc[0]\n",
    "    if suggested_word in all_suggested:\n",
    "        suggested_word = word_letter_df['words'].iloc[1]\n",
    "        print('Top 5 Choices')\n",
    "        print(word_letter_df[['words','word_prob']].iloc[1:6])\n",
    "    else:\n",
    "        print('Top 5 Choices')\n",
    "        print(word_letter_df[['words','word_prob']].iloc[:5])\n",
    "    print('Suggested word: ',suggested_word)\n",
    "    \n",
    "    new_word = input('Press y to continue with suggested word else type other word: ')\n",
    "    \n",
    "    if new_word == 'y':\n",
    "        pass\n",
    "    else:\n",
    "        suggested_word = new_word\n",
    "    \n",
    "    return suggested_word, word_letter_df\n",
    "   "
   ]
  },
  {
   "cell_type": "code",
   "execution_count": 14,
   "metadata": {},
   "outputs": [],
   "source": [
    "def start(suggested_word,word_df,iteration,all_suggested):\n",
    "    if iteration == 1:\n",
    "        suggested_word, word_df = suggest_word(word_df=word_df)\n",
    "    else:\n",
    "        round_result = input(\"Enter result: \")\n",
    "        suggested_word, word_df = suggest_word(suggested_word,round_result,word_df,iteration,all_suggested)\n",
    "    return suggested_word,word_df\n",
    "\n",
    "def intersection(lst1, lst2):\n",
    "    lst3 = [value for value in lst1 if value in lst2]\n",
    "    return lst3"
   ]
  },
  {
   "cell_type": "code",
   "execution_count": 39,
   "metadata": {},
   "outputs": [
    {
     "name": "stdout",
     "output_type": "stream",
     "text": [
      "Number of words:  12972\n"
     ]
    }
   ],
   "source": [
    "word_df_initial = create_word_list_new('wordle_words.csv')\n",
    "alphabet_df_initial = generate_alphabet_prob(word_df_initial)\n",
    "word_df_initial['word_prob'] = word_df_initial['words'].apply(lambda x: word_score(x, alphabet_df_initial))"
   ]
  },
  {
   "cell_type": "code",
   "execution_count": 40,
   "metadata": {
    "scrolled": true
   },
   "outputs": [
    {
     "name": "stdout",
     "output_type": "stream",
     "text": [
      "Attempt Number:  1\n",
      "Top 5 Choices\n",
      "   words  word_prob\n",
      "0  cares   0.822310\n",
      "1  bares   0.821307\n",
      "2  pares   0.817453\n",
      "3  tares   0.814061\n",
      "4  cores   0.809513\n",
      "Suggested word:  cares\n",
      "Press y to continue with suggested word else type other word: dears\n",
      "Enter result: bbbbb\n",
      "Attempt Number:  2\n",
      "Number of words before iteration:  12972\n",
      "Number of words after filters:  989\n",
      "Top 5 Choices\n",
      "   words  word_prob\n",
      "0  ponty   0.959555\n",
      "1  poncy   0.957533\n",
      "2  conky   0.937310\n",
      "3  colby   0.918099\n",
      "4  pongy   0.917088\n",
      "Suggested word:  ponty\n",
      "Press y to continue with suggested word else type other word: point\n",
      "Enter result: bybyb\n",
      "Attempt Number:  3\n",
      "Number of words before iteration:  989\n",
      "Number of words after filters:  18\n",
      "Top 5 Choices\n",
      "   words  word_prob\n",
      "0  blown   1.500000\n",
      "1  flown   1.444444\n",
      "2  clown   1.444444\n",
      "3  known   1.277778\n",
      "4  gluon   1.222222\n",
      "Suggested word:  blown\n",
      "Press y to continue with suggested word else type other word: clown\n",
      "Enter result: bygby\n",
      "Attempt Number:  4\n",
      "Number of words before iteration:  18\n",
      "Number of words after filters:  1\n",
      "Top 5 Choices\n",
      "   words  word_prob\n",
      "0  knoll        4.0\n",
      "Suggested word:  knoll\n"
     ]
    },
    {
     "ename": "KeyboardInterrupt",
     "evalue": "Interrupted by user",
     "output_type": "error",
     "traceback": [
      "\u001b[1;31m---------------------------------------------------------------------------\u001b[0m",
      "\u001b[1;31mKeyboardInterrupt\u001b[0m                         Traceback (most recent call last)",
      "\u001b[1;32m<ipython-input-40-bfb79848a0ad>\u001b[0m in \u001b[0;36m<module>\u001b[1;34m\u001b[0m\n\u001b[0;32m      6\u001b[0m     \u001b[0mall_suggested\u001b[0m\u001b[1;33m=\u001b[0m\u001b[1;33m[\u001b[0m\u001b[1;33m]\u001b[0m\u001b[1;33m\u001b[0m\u001b[1;33m\u001b[0m\u001b[0m\n\u001b[0;32m      7\u001b[0m \u001b[1;32mwhile\u001b[0m \u001b[0mplay\u001b[0m\u001b[1;33m==\u001b[0m\u001b[1;34m'y'\u001b[0m\u001b[1;33m:\u001b[0m\u001b[1;33m\u001b[0m\u001b[1;33m\u001b[0m\u001b[0m\n\u001b[1;32m----> 8\u001b[1;33m     \u001b[0msuggested_word\u001b[0m\u001b[1;33m,\u001b[0m\u001b[0mword_df\u001b[0m \u001b[1;33m=\u001b[0m \u001b[0mstart\u001b[0m\u001b[1;33m(\u001b[0m\u001b[0msuggested_word\u001b[0m\u001b[1;33m,\u001b[0m\u001b[0mword_df\u001b[0m\u001b[1;33m,\u001b[0m\u001b[0miteration\u001b[0m\u001b[1;33m,\u001b[0m\u001b[0mall_suggested\u001b[0m\u001b[1;33m)\u001b[0m\u001b[1;33m\u001b[0m\u001b[1;33m\u001b[0m\u001b[0m\n\u001b[0m\u001b[0;32m      9\u001b[0m     \u001b[0mall_suggested\u001b[0m\u001b[1;33m.\u001b[0m\u001b[0mappend\u001b[0m\u001b[1;33m(\u001b[0m\u001b[0msuggested_word\u001b[0m\u001b[1;33m)\u001b[0m\u001b[1;33m\u001b[0m\u001b[1;33m\u001b[0m\u001b[0m\n\u001b[0;32m     10\u001b[0m     \u001b[1;32mif\u001b[0m \u001b[0mplay\u001b[0m \u001b[1;33m==\u001b[0m \u001b[1;34m'y'\u001b[0m\u001b[1;33m:\u001b[0m\u001b[1;33m\u001b[0m\u001b[1;33m\u001b[0m\u001b[0m\n",
      "\u001b[1;32m<ipython-input-14-31c12fa3b00d>\u001b[0m in \u001b[0;36mstart\u001b[1;34m(suggested_word, word_df, iteration, all_suggested)\u001b[0m\n\u001b[0;32m      4\u001b[0m     \u001b[1;32melse\u001b[0m\u001b[1;33m:\u001b[0m\u001b[1;33m\u001b[0m\u001b[1;33m\u001b[0m\u001b[0m\n\u001b[0;32m      5\u001b[0m         \u001b[0mround_result\u001b[0m \u001b[1;33m=\u001b[0m \u001b[0minput\u001b[0m\u001b[1;33m(\u001b[0m\u001b[1;34m\"Enter result: \"\u001b[0m\u001b[1;33m)\u001b[0m\u001b[1;33m\u001b[0m\u001b[1;33m\u001b[0m\u001b[0m\n\u001b[1;32m----> 6\u001b[1;33m         \u001b[0msuggested_word\u001b[0m\u001b[1;33m,\u001b[0m \u001b[0mword_df\u001b[0m \u001b[1;33m=\u001b[0m \u001b[0msuggest_word\u001b[0m\u001b[1;33m(\u001b[0m\u001b[0msuggested_word\u001b[0m\u001b[1;33m,\u001b[0m\u001b[0mround_result\u001b[0m\u001b[1;33m,\u001b[0m\u001b[0mword_df\u001b[0m\u001b[1;33m,\u001b[0m\u001b[0miteration\u001b[0m\u001b[1;33m,\u001b[0m\u001b[0mall_suggested\u001b[0m\u001b[1;33m)\u001b[0m\u001b[1;33m\u001b[0m\u001b[1;33m\u001b[0m\u001b[0m\n\u001b[0m\u001b[0;32m      7\u001b[0m     \u001b[1;32mreturn\u001b[0m \u001b[0msuggested_word\u001b[0m\u001b[1;33m,\u001b[0m\u001b[0mword_df\u001b[0m\u001b[1;33m\u001b[0m\u001b[1;33m\u001b[0m\u001b[0m\n\u001b[0;32m      8\u001b[0m \u001b[1;33m\u001b[0m\u001b[0m\n",
      "\u001b[1;32m<ipython-input-19-162384e7ba40>\u001b[0m in \u001b[0;36msuggest_word\u001b[1;34m(input_word, round_result, word_df, iteration, all_suggested)\u001b[0m\n\u001b[0;32m     68\u001b[0m     \u001b[0mprint\u001b[0m\u001b[1;33m(\u001b[0m\u001b[1;34m'Suggested word: '\u001b[0m\u001b[1;33m,\u001b[0m\u001b[0msuggested_word\u001b[0m\u001b[1;33m)\u001b[0m\u001b[1;33m\u001b[0m\u001b[1;33m\u001b[0m\u001b[0m\n\u001b[0;32m     69\u001b[0m \u001b[1;33m\u001b[0m\u001b[0m\n\u001b[1;32m---> 70\u001b[1;33m     \u001b[0mnew_word\u001b[0m \u001b[1;33m=\u001b[0m \u001b[0minput\u001b[0m\u001b[1;33m(\u001b[0m\u001b[1;34m'Press y to continue with suggested word else type other word: '\u001b[0m\u001b[1;33m)\u001b[0m\u001b[1;33m\u001b[0m\u001b[1;33m\u001b[0m\u001b[0m\n\u001b[0m\u001b[0;32m     71\u001b[0m \u001b[1;33m\u001b[0m\u001b[0m\n\u001b[0;32m     72\u001b[0m     \u001b[1;32mif\u001b[0m \u001b[0mnew_word\u001b[0m \u001b[1;33m==\u001b[0m \u001b[1;34m'y'\u001b[0m\u001b[1;33m:\u001b[0m\u001b[1;33m\u001b[0m\u001b[1;33m\u001b[0m\u001b[0m\n",
      "\u001b[1;32m~\\anaconda3\\lib\\site-packages\\ipykernel\\kernelbase.py\u001b[0m in \u001b[0;36mraw_input\u001b[1;34m(self, prompt)\u001b[0m\n\u001b[0;32m    858\u001b[0m                 \u001b[1;34m\"raw_input was called, but this frontend does not support input requests.\"\u001b[0m\u001b[1;33m\u001b[0m\u001b[1;33m\u001b[0m\u001b[0m\n\u001b[0;32m    859\u001b[0m             )\n\u001b[1;32m--> 860\u001b[1;33m         return self._input_request(str(prompt),\n\u001b[0m\u001b[0;32m    861\u001b[0m             \u001b[0mself\u001b[0m\u001b[1;33m.\u001b[0m\u001b[0m_parent_ident\u001b[0m\u001b[1;33m,\u001b[0m\u001b[1;33m\u001b[0m\u001b[1;33m\u001b[0m\u001b[0m\n\u001b[0;32m    862\u001b[0m             \u001b[0mself\u001b[0m\u001b[1;33m.\u001b[0m\u001b[0m_parent_header\u001b[0m\u001b[1;33m,\u001b[0m\u001b[1;33m\u001b[0m\u001b[1;33m\u001b[0m\u001b[0m\n",
      "\u001b[1;32m~\\anaconda3\\lib\\site-packages\\ipykernel\\kernelbase.py\u001b[0m in \u001b[0;36m_input_request\u001b[1;34m(self, prompt, ident, parent, password)\u001b[0m\n\u001b[0;32m    902\u001b[0m             \u001b[1;32mexcept\u001b[0m \u001b[0mKeyboardInterrupt\u001b[0m\u001b[1;33m:\u001b[0m\u001b[1;33m\u001b[0m\u001b[1;33m\u001b[0m\u001b[0m\n\u001b[0;32m    903\u001b[0m                 \u001b[1;31m# re-raise KeyboardInterrupt, to truncate traceback\u001b[0m\u001b[1;33m\u001b[0m\u001b[1;33m\u001b[0m\u001b[1;33m\u001b[0m\u001b[0m\n\u001b[1;32m--> 904\u001b[1;33m                 \u001b[1;32mraise\u001b[0m \u001b[0mKeyboardInterrupt\u001b[0m\u001b[1;33m(\u001b[0m\u001b[1;34m\"Interrupted by user\"\u001b[0m\u001b[1;33m)\u001b[0m \u001b[1;32mfrom\u001b[0m \u001b[1;32mNone\u001b[0m\u001b[1;33m\u001b[0m\u001b[1;33m\u001b[0m\u001b[0m\n\u001b[0m\u001b[0;32m    905\u001b[0m             \u001b[1;32mexcept\u001b[0m \u001b[0mException\u001b[0m \u001b[1;32mas\u001b[0m \u001b[0me\u001b[0m\u001b[1;33m:\u001b[0m\u001b[1;33m\u001b[0m\u001b[1;33m\u001b[0m\u001b[0m\n\u001b[0;32m    906\u001b[0m                 \u001b[0mself\u001b[0m\u001b[1;33m.\u001b[0m\u001b[0mlog\u001b[0m\u001b[1;33m.\u001b[0m\u001b[0mwarning\u001b[0m\u001b[1;33m(\u001b[0m\u001b[1;34m\"Invalid Message:\"\u001b[0m\u001b[1;33m,\u001b[0m \u001b[0mexc_info\u001b[0m\u001b[1;33m=\u001b[0m\u001b[1;32mTrue\u001b[0m\u001b[1;33m)\u001b[0m\u001b[1;33m\u001b[0m\u001b[1;33m\u001b[0m\u001b[0m\n",
      "\u001b[1;31mKeyboardInterrupt\u001b[0m: Interrupted by user"
     ]
    }
   ],
   "source": [
    "play = \"y\"\n",
    "if play == \"y\":\n",
    "    suggested_word = ''\n",
    "    word_df = word_df_initial.copy()\n",
    "    iteration = 1\n",
    "    all_suggested=[]\n",
    "while play=='y':\n",
    "    suggested_word,word_df = start(suggested_word,word_df,iteration,all_suggested)\n",
    "    all_suggested.append(suggested_word)\n",
    "    if play == 'y':\n",
    "        iteration +=1"
   ]
  },
  {
   "cell_type": "code",
   "execution_count": null,
   "metadata": {},
   "outputs": [],
   "source": []
  }
 ],
 "metadata": {
  "kernelspec": {
   "display_name": "Python 3",
   "language": "python",
   "name": "python3"
  },
  "language_info": {
   "codemirror_mode": {
    "name": "ipython",
    "version": 3
   },
   "file_extension": ".py",
   "mimetype": "text/x-python",
   "name": "python",
   "nbconvert_exporter": "python",
   "pygments_lexer": "ipython3",
   "version": "3.8.5"
  }
 },
 "nbformat": 4,
 "nbformat_minor": 4
}
