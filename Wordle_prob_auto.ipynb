{
 "cells": [
  {
   "cell_type": "code",
   "execution_count": 15,
   "metadata": {},
   "outputs": [
    {
     "name": "stdout",
     "output_type": "stream",
     "text": [
      "The autotime extension is already loaded. To reload it, use:\n",
      "  %reload_ext autotime\n",
      "time: 0 ns (started: 2022-01-20 14:02:17 +05:30)\n"
     ]
    }
   ],
   "source": [
    "import pandas as pd\n",
    "import numpy as np\n",
    "import string\n",
    "import collections\n",
    "%load_ext autotime\n",
    "from tqdm import tqdm"
   ]
  },
  {
   "cell_type": "code",
   "execution_count": 33,
   "metadata": {},
   "outputs": [
    {
     "name": "stdout",
     "output_type": "stream",
     "text": [
      "time: 0 ns (started: 2022-01-20 16:09:50 +05:30)\n"
     ]
    }
   ],
   "source": [
    "def create_word_list_new(filename='wordle_words.csv'):\n",
    "    word_df = pd.read_csv(filename, names=['words'])\n",
    "    for i in range(5):\n",
    "        word_df['pos_'+str(i)] = word_df['words'].apply(lambda x: x[i])\n",
    "    print('Number of words: ', word_df.shape[0])\n",
    "    return word_df"
   ]
  },
  {
   "cell_type": "code",
   "execution_count": 17,
   "metadata": {},
   "outputs": [
    {
     "name": "stdout",
     "output_type": "stream",
     "text": [
      "time: 0 ns (started: 2022-01-20 14:02:18 +05:30)\n"
     ]
    }
   ],
   "source": [
    "def count_prob(letter,word_df,num):\n",
    "    counter = word_df['pos_'+str(num)].apply(lambda x: 1 if x.count(letter)==1 else 0)\n",
    "    return counter.sum()/(len(word_df))"
   ]
  },
  {
   "cell_type": "code",
   "execution_count": 18,
   "metadata": {},
   "outputs": [
    {
     "name": "stdout",
     "output_type": "stream",
     "text": [
      "time: 0 ns (started: 2022-01-20 14:02:18 +05:30)\n"
     ]
    }
   ],
   "source": [
    "def generate_alphabet_prob(word_df):\n",
    "    alphabet_string = string.ascii_lowercase\n",
    "    alphabet_list = list(alphabet_string)\n",
    "    alphabet_df = pd.DataFrame(alphabet_list, columns=['letters'])\n",
    "\n",
    "    for i in range(5):\n",
    "        column_name = 'prob_'+str(i)\n",
    "        alphabet_df[column_name] = alphabet_df['letters'].apply(lambda x: count_prob(x,word_df,i))\n",
    "    \n",
    "    return alphabet_df"
   ]
  },
  {
   "cell_type": "code",
   "execution_count": 19,
   "metadata": {},
   "outputs": [
    {
     "name": "stdout",
     "output_type": "stream",
     "text": [
      "time: 0 ns (started: 2022-01-20 14:02:19 +05:30)\n"
     ]
    }
   ],
   "source": [
    "def word_score(word, alphabet_df):\n",
    "    word_dict = {k: v for v, k in enumerate(list(word))}\n",
    "    word_df = pd.DataFrame({'letters':word_dict.keys(),'position':word_dict.values()})\n",
    "    word_df = word_df.merge(alphabet_df, how = 'left', on = ['letters'])\n",
    "    word_df['prob'] = word_df.apply(find_prob, axis =1)\n",
    "    return word_df['prob'].sum()\n",
    "\n",
    "def find_prob(row):\n",
    "    column_name = 'prob_' + str(row['position'])\n",
    "    return row[column_name]"
   ]
  },
  {
   "cell_type": "code",
   "execution_count": 20,
   "metadata": {},
   "outputs": [
    {
     "name": "stdout",
     "output_type": "stream",
     "text": [
      "time: 15 ms (started: 2022-01-20 14:02:20 +05:30)\n"
     ]
    }
   ],
   "source": [
    "def suggest_word(input_word='',round_result='',word_df='',iteration=1,all_suggested=[]):\n",
    "    if (iteration ==1) & (len(word_df)==0):\n",
    "        word_letter_df = create_word_list_new()\n",
    "        alphabet_df = generate_alphabet_prob(word_letter_df)\n",
    "        word_letter_df['word_prob'] = word_letter_df['words'].apply(lambda x: word_score(x, alphabet_df))\n",
    "    \n",
    "    elif (iteration ==1) & (len(word_df)!=0):\n",
    "        word_letter_df = word_df.copy()\n",
    "\n",
    "    else:\n",
    "        word_list = list(input_word)\n",
    "        result_list = list(round_result)\n",
    "\n",
    "        black_letters_idx = [idx for idx,letter in enumerate(result_list) if letter =='b']\n",
    "        black_letters = [word_list[idx] for idx in black_letters_idx]\n",
    "\n",
    "        green_letters_idx = [idx for idx,letter in enumerate(result_list) if letter =='g']\n",
    "        green_letters = [word_list[idx] for idx in green_letters_idx]\n",
    "\n",
    "        yellow_letters_idx = [idx for idx,letter in enumerate(result_list) if letter =='y']\n",
    "        yellow_letters = [word_list[idx] for idx in yellow_letters_idx]\n",
    "        \n",
    "        overlapping_letters_g = intersection(black_letters,green_letters)\n",
    "        overlapping_letters_y = intersection(black_letters,yellow_letters)\n",
    "        overlapping_letters_g = list(set(overlapping_letters_g) - set(overlapping_letters_y))\n",
    "        \n",
    "        remove_positions_g = dict()\n",
    "        for i in overlapping_letters_g:\n",
    "            indices = [j for j, x in enumerate(green_letters) if x == i]\n",
    "            remove_positions_g[i] = list(set([0,1,2,3,4]) - set([elem for idx,elem in enumerate(green_letters_idx) if idx in indices]))\n",
    "    \n",
    "        \n",
    "        word_letter_df = word_df.copy()\n",
    "        \n",
    "        for i in black_letters_idx:\n",
    "            if word_list[i] in remove_positions_g.keys():\n",
    "                for j in remove_positions_g[word_list[i]]:\n",
    "                    word_letter_df = word_letter_df[word_letter_df['pos_'+str(j)]!=word_list[i]]\n",
    "            elif word_list[i] in overlapping_letters_y:\n",
    "                word_letter_df = word_letter_df[word_letter_df['pos_'+str(i)]!=word_list[i]]\n",
    "            else:\n",
    "                word_letter_df = word_letter_df[word_letter_df['words'].apply(lambda x: x.find(word_list[i])<0)]\n",
    "        \n",
    "        for i in green_letters_idx:\n",
    "            word_letter_df = word_letter_df[word_letter_df['pos_'+str(i)]==word_list[i]]\n",
    "        \n",
    "        for i in yellow_letters_idx:\n",
    "            word_letter_df = word_letter_df[(word_letter_df['pos_'+str(i)]!=word_list[i]) & (word_letter_df['words'].apply(lambda x: x.find(word_list[i])>=0))]\n",
    "        \n",
    "        alphabet_df = generate_alphabet_prob(word_letter_df)\n",
    "        word_letter_df['word_prob'] = word_letter_df['words'].apply(lambda x: word_score(x, alphabet_df))\n",
    "    \n",
    "    word_letter_df.sort_values(by=['word_prob'],ascending=False, inplace = True)\n",
    "    word_letter_df.reset_index(drop=True, inplace=True)\n",
    "    \n",
    "    suggested_word = word_letter_df['words'].iloc[0]\n",
    "    if suggested_word in all_suggested:\n",
    "        suggested_word = word_letter_df['words'].iloc[1]\n",
    "    \n",
    "    return suggested_word, word_letter_df\n",
    "   "
   ]
  },
  {
   "cell_type": "code",
   "execution_count": 21,
   "metadata": {},
   "outputs": [
    {
     "name": "stdout",
     "output_type": "stream",
     "text": [
      "time: 0 ns (started: 2022-01-20 14:02:21 +05:30)\n"
     ]
    }
   ],
   "source": [
    "def start(actual_word,suggested_word,word_df,iteration,all_suggested):\n",
    "    if iteration == 1:\n",
    "        round_result = 'bbbbb'\n",
    "        suggested_word, word_df = suggest_word(word_df=word_df)\n",
    "    else:\n",
    "        round_result = result(actual_word,suggested_word)\n",
    "        suggested_word, word_df = suggest_word(suggested_word,round_result,word_df,iteration,all_suggested)\n",
    "    if (round_result == 'ggggg' or suggested_word == actual_word):\n",
    "        play = 'n'\n",
    "    else:\n",
    "        play = 'y'\n",
    "    return suggested_word,word_df,play\n",
    "\n",
    "def intersection(lst1, lst2):\n",
    "    lst3 = [value for value in lst1 if value in lst2]\n",
    "    return lst3"
   ]
  },
  {
   "cell_type": "code",
   "execution_count": 42,
   "metadata": {},
   "outputs": [
    {
     "name": "stdout",
     "output_type": "stream",
     "text": [
      "Number of words:  2315\n",
      "time: 9.3 s (started: 2022-01-24 01:18:32 +05:30)\n"
     ]
    }
   ],
   "source": [
    "word_df_initial = create_word_list_new('wordle_words_sol.csv')\n",
    "alphabet_df_initial = generate_alphabet_prob(word_df_initial)\n",
    "word_df_initial['word_prob'] = word_df_initial['words'].apply(lambda x: word_score(x, alphabet_df_initial))"
   ]
  },
  {
   "cell_type": "code",
   "execution_count": 23,
   "metadata": {},
   "outputs": [
    {
     "name": "stdout",
     "output_type": "stream",
     "text": [
      "time: 0 ns (started: 2022-01-20 14:03:21 +05:30)\n"
     ]
    }
   ],
   "source": [
    "def result(actual_word, suggested_word):\n",
    "    indices = [0,1,2,3,4]\n",
    "    indices_copy = indices.copy()\n",
    "    actual_word_dict = dict(zip(indices,list(actual_word)))\n",
    "    suggested_word_dict = dict(zip(indices,list(suggested_word)))\n",
    "    initial_result = ['b','b','b','b','b']\n",
    "    for i in indices_copy:\n",
    "        if actual_word_dict[i]==suggested_word_dict[i]:\n",
    "            initial_result[i]='g'\n",
    "            actual_word_dict.pop(i)\n",
    "            suggested_word_dict.pop(i)\n",
    "            indices.remove(i)\n",
    "    \n",
    "    indices_copy = indices.copy()\n",
    "    for i in indices_copy:\n",
    "        key_list = list(actual_word_dict.keys())\n",
    "        val_list = list(actual_word_dict.values())\n",
    "        if suggested_word_dict[i] in val_list:\n",
    "            position = val_list.index(suggested_word_dict[i])\n",
    "            index = key_list[position]\n",
    "            initial_result[i]='y'\n",
    "            actual_word_dict.pop(index)\n",
    "            suggested_word_dict.pop(i)\n",
    "            indices.remove(i)\n",
    "            \n",
    "    return \"\".join(initial_result)"
   ]
  },
  {
   "cell_type": "code",
   "execution_count": 43,
   "metadata": {
    "scrolled": true
   },
   "outputs": [
    {
     "name": "stderr",
     "output_type": "stream",
     "text": [
      "\r",
      "  0%|          | 0/2315 [00:00<?, ?it/s]"
     ]
    },
    {
     "name": "stdout",
     "output_type": "stream",
     "text": [
      "Number of words:  2315\n"
     ]
    },
    {
     "name": "stderr",
     "output_type": "stream",
     "text": [
      "100%|██████████| 2315/2315 [23:00<00:00,  1.68it/s]"
     ]
    },
    {
     "name": "stdout",
     "output_type": "stream",
     "text": [
      "time: 23min (started: 2022-01-24 01:18:46 +05:30)\n"
     ]
    },
    {
     "name": "stderr",
     "output_type": "stream",
     "text": [
      "\n"
     ]
    }
   ],
   "source": [
    "final = dict()\n",
    "word_list = list(create_word_list_new('wordle_words_sol.csv')['words'].sample(n = 2315, random_state = 1))\n",
    "for i in tqdm(word_list):\n",
    "    play = \"y\"\n",
    "    if play == \"y\":\n",
    "        suggested_word = ''\n",
    "        word_df = word_df_initial.copy()\n",
    "        iteration = 1\n",
    "        all_suggested=[]\n",
    "    while play=='y':\n",
    "        actual_word = i\n",
    "        suggested_word,word_df,play = start(actual_word,suggested_word,word_df,iteration,all_suggested)\n",
    "        all_suggested.append(suggested_word)\n",
    "        if play == 'y':\n",
    "            iteration +=1\n",
    "        else:\n",
    "            final[i] = iteration\n",
    "\n",
    "final_df = pd.DataFrame({'words':final.keys(),'attempts':final.values()})\n",
    "final_df.to_csv('results_alternate.csv')"
   ]
  },
  {
   "cell_type": "code",
   "execution_count": 44,
   "metadata": {},
   "outputs": [
    {
     "data": {
      "text/plain": [
       "count    2315.000000\n",
       "mean        3.653132\n",
       "std         0.886484\n",
       "min         1.000000\n",
       "25%         3.000000\n",
       "50%         4.000000\n",
       "75%         4.000000\n",
       "max         8.000000\n",
       "Name: attempts, dtype: float64"
      ]
     },
     "execution_count": 44,
     "metadata": {},
     "output_type": "execute_result"
    },
    {
     "name": "stdout",
     "output_type": "stream",
     "text": [
      "time: 16 ms (started: 2022-01-24 01:41:46 +05:30)\n"
     ]
    }
   ],
   "source": [
    "final_df['attempts'].describe()"
   ]
  },
  {
   "cell_type": "code",
   "execution_count": 45,
   "metadata": {},
   "outputs": [
    {
     "data": {
      "text/plain": [
       "0.9930885529157667"
      ]
     },
     "execution_count": 45,
     "metadata": {},
     "output_type": "execute_result"
    },
    {
     "name": "stdout",
     "output_type": "stream",
     "text": [
      "time: 16 ms (started: 2022-01-24 01:41:46 +05:30)\n"
     ]
    }
   ],
   "source": [
    "final_df[final_df['attempts']<=6].shape[0]/len(final_df)"
   ]
  },
  {
   "cell_type": "code",
   "execution_count": 46,
   "metadata": {},
   "outputs": [
    {
     "data": {
      "text/html": [
       "<div>\n",
       "<style scoped>\n",
       "    .dataframe tbody tr th:only-of-type {\n",
       "        vertical-align: middle;\n",
       "    }\n",
       "\n",
       "    .dataframe tbody tr th {\n",
       "        vertical-align: top;\n",
       "    }\n",
       "\n",
       "    .dataframe thead th {\n",
       "        text-align: right;\n",
       "    }\n",
       "</style>\n",
       "<table border=\"1\" class=\"dataframe\">\n",
       "  <thead>\n",
       "    <tr style=\"text-align: right;\">\n",
       "      <th></th>\n",
       "      <th>words</th>\n",
       "      <th>attempts</th>\n",
       "    </tr>\n",
       "  </thead>\n",
       "  <tbody>\n",
       "    <tr>\n",
       "      <th>0</th>\n",
       "      <td>nasty</td>\n",
       "      <td>4</td>\n",
       "    </tr>\n",
       "    <tr>\n",
       "      <th>1</th>\n",
       "      <td>befit</td>\n",
       "      <td>4</td>\n",
       "    </tr>\n",
       "    <tr>\n",
       "      <th>2</th>\n",
       "      <td>first</td>\n",
       "      <td>3</td>\n",
       "    </tr>\n",
       "    <tr>\n",
       "      <th>3</th>\n",
       "      <td>tarot</td>\n",
       "      <td>3</td>\n",
       "    </tr>\n",
       "    <tr>\n",
       "      <th>4</th>\n",
       "      <td>aside</td>\n",
       "      <td>3</td>\n",
       "    </tr>\n",
       "  </tbody>\n",
       "</table>\n",
       "</div>"
      ],
      "text/plain": [
       "   words  attempts\n",
       "0  nasty         4\n",
       "1  befit         4\n",
       "2  first         3\n",
       "3  tarot         3\n",
       "4  aside         3"
      ]
     },
     "execution_count": 46,
     "metadata": {},
     "output_type": "execute_result"
    },
    {
     "name": "stdout",
     "output_type": "stream",
     "text": [
      "time: 47 ms (started: 2022-01-24 01:41:46 +05:30)\n"
     ]
    }
   ],
   "source": [
    "final_df.head()"
   ]
  }
 ],
 "metadata": {
  "kernelspec": {
   "display_name": "Python 3",
   "language": "python",
   "name": "python3"
  },
  "language_info": {
   "codemirror_mode": {
    "name": "ipython",
    "version": 3
   },
   "file_extension": ".py",
   "mimetype": "text/x-python",
   "name": "python",
   "nbconvert_exporter": "python",
   "pygments_lexer": "ipython3",
   "version": "3.8.5"
  }
 },
 "nbformat": 4,
 "nbformat_minor": 4
}
